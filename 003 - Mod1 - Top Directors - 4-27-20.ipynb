{
 "cells": [
  {
   "cell_type": "code",
   "execution_count": 60,
   "metadata": {},
   "outputs": [],
   "source": [
    "import pandas as pd\n",
    "import requests\n",
    "from bs4 import BeautifulSoup\n",
    "import seaborn as sns #imports seaborn library\n",
    "\n",
    "# Matplot\n",
    "import matplotlib.pyplot as plt #import matplot library\n",
    "%matplotlib inline"
   ]
  },
  {
   "cell_type": "code",
   "execution_count": 61,
   "metadata": {},
   "outputs": [],
   "source": [
    "page = requests.get('https://www.imdb.com/list/ls000026027/') #gets url\n",
    "soup = BeautifulSoup(page.content,'html.parser')\n",
    "director = soup.find(id=\"main\")"
   ]
  },
  {
   "cell_type": "code",
   "execution_count": 62,
   "metadata": {},
   "outputs": [],
   "source": [
    "images = [] #decraling a list"
   ]
  },
  {
   "cell_type": "code",
   "execution_count": 63,
   "metadata": {
    "scrolled": false
   },
   "outputs": [],
   "source": [
    "images = soup.findAll('img') #assigning the list to the images"
   ]
  },
  {
   "cell_type": "code",
   "execution_count": 64,
   "metadata": {},
   "outputs": [],
   "source": [
    "#print(images)"
   ]
  },
  {
   "cell_type": "code",
   "execution_count": 65,
   "metadata": {
    "scrolled": true
   },
   "outputs": [
    {
     "name": "stdout",
     "output_type": "stream",
     "text": [
      "David Fincher\n",
      "Martin Scorsese\n",
      "Quentin Tarantino\n",
      "Christopher Nolan\n",
      "Peter Jackson\n",
      "Tim Burton\n",
      "Clint Eastwood\n",
      "James Cameron\n",
      "Francis Ford Coppola\n",
      "Steven Spielberg\n",
      "Oliver Stone\n",
      "Danny Boyle\n",
      "Ang Lee\n",
      "Joel Coen\n",
      "Steven Soderbergh\n",
      "Woody Allen\n",
      "Roman Polanski\n",
      "Ridley Scott\n",
      "Rob Marshall\n",
      "Alejandro G. Iñárritu\n",
      "list image\n",
      "list image\n",
      "list image\n",
      "list image\n",
      "list image\n"
     ]
    }
   ],
   "source": [
    "top_directors = [] #creating a top directors list\n",
    "\n",
    "for image in images:\n",
    "    print (image.get('alt')) #going through each image to get a name of the directors\n",
    "    result = image.get('alt')\n",
    "    top_directors.append(result) #adding to the list"
   ]
  },
  {
   "cell_type": "code",
   "execution_count": 66,
   "metadata": {},
   "outputs": [],
   "source": [
    "myResult = [] \n",
    "for x in range(5):\n",
    "     myResult.append(top_directors[x]) #we are getting the top 5 from the list\n",
    "        "
   ]
  },
  {
   "cell_type": "code",
   "execution_count": 67,
   "metadata": {},
   "outputs": [
    {
     "data": {
      "text/html": [
       "<div>\n",
       "<style scoped>\n",
       "    .dataframe tbody tr th:only-of-type {\n",
       "        vertical-align: middle;\n",
       "    }\n",
       "\n",
       "    .dataframe tbody tr th {\n",
       "        vertical-align: top;\n",
       "    }\n",
       "\n",
       "    .dataframe thead th {\n",
       "        text-align: right;\n",
       "    }\n",
       "</style>\n",
       "<table border=\"1\" class=\"dataframe\">\n",
       "  <thead>\n",
       "    <tr style=\"text-align: right;\">\n",
       "      <th></th>\n",
       "      <th>Top Living Movie Directors</th>\n",
       "    </tr>\n",
       "  </thead>\n",
       "  <tbody>\n",
       "    <tr>\n",
       "      <td>0</td>\n",
       "      <td>David Fincher</td>\n",
       "    </tr>\n",
       "    <tr>\n",
       "      <td>1</td>\n",
       "      <td>Martin Scorsese</td>\n",
       "    </tr>\n",
       "    <tr>\n",
       "      <td>2</td>\n",
       "      <td>Quentin Tarantino</td>\n",
       "    </tr>\n",
       "    <tr>\n",
       "      <td>3</td>\n",
       "      <td>Christopher Nolan</td>\n",
       "    </tr>\n",
       "    <tr>\n",
       "      <td>4</td>\n",
       "      <td>Peter Jackson</td>\n",
       "    </tr>\n",
       "  </tbody>\n",
       "</table>\n",
       "</div>"
      ],
      "text/plain": [
       "  Top Living Movie Directors\n",
       "0              David Fincher\n",
       "1            Martin Scorsese\n",
       "2          Quentin Tarantino\n",
       "3          Christopher Nolan\n",
       "4              Peter Jackson"
      ]
     },
     "execution_count": 67,
     "metadata": {},
     "output_type": "execute_result"
    }
   ],
   "source": [
    "top_five_directors = pd.DataFrame(myResult, columns = ['Top Living Movie Directors']) #creating a dataframe\n",
    "top_five_directors #prints the visual list "
   ]
  },
  {
   "cell_type": "code",
   "execution_count": 68,
   "metadata": {},
   "outputs": [],
   "source": [
    "#Ranktop_five_directors.to_csv('top_five_directors.csv')\n"
   ]
  },
  {
   "cell_type": "code",
   "execution_count": null,
   "metadata": {},
   "outputs": [],
   "source": [
    "#In conclusion, we scrapped the top 20 living directors from IMDB to give recommendations on who to use in-order to make profit."
   ]
  }
 ],
 "metadata": {
  "kernelspec": {
   "display_name": "Python 3",
   "language": "python",
   "name": "python3"
  },
  "language_info": {
   "codemirror_mode": {
    "name": "ipython",
    "version": 3
   },
   "file_extension": ".py",
   "mimetype": "text/x-python",
   "name": "python",
   "nbconvert_exporter": "python",
   "pygments_lexer": "ipython3",
   "version": "3.7.4"
  }
 },
 "nbformat": 4,
 "nbformat_minor": 2
}
