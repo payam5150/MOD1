{
 "cells": [
  {
   "cell_type": "code",
   "execution_count": 1,
   "metadata": {},
   "outputs": [],
   "source": [
    "import pandas as pd #imports panda library\n",
    "import numpy as np\n",
    "import seaborn as sns #imports seaborn library\n",
    "\n",
    "# Matplot\n",
    "import matplotlib.pyplot as plt #import matplot library\n",
    "%matplotlib inline"
   ]
  },
  {
   "cell_type": "code",
   "execution_count": 2,
   "metadata": {},
   "outputs": [],
   "source": [
    "df=pd.read_csv('final_movies_list.csv') #Imports my csv file from my jupyter notbook"
   ]
  },
  {
   "cell_type": "code",
   "execution_count": 3,
   "metadata": {},
   "outputs": [
    {
     "data": {
      "text/html": [
       "<div>\n",
       "<style scoped>\n",
       "    .dataframe tbody tr th:only-of-type {\n",
       "        vertical-align: middle;\n",
       "    }\n",
       "\n",
       "    .dataframe tbody tr th {\n",
       "        vertical-align: top;\n",
       "    }\n",
       "\n",
       "    .dataframe thead th {\n",
       "        text-align: right;\n",
       "    }\n",
       "</style>\n",
       "<table border=\"1\" class=\"dataframe\">\n",
       "  <thead>\n",
       "    <tr style=\"text-align: right;\">\n",
       "      <th></th>\n",
       "      <th>Unnamed: 0</th>\n",
       "      <th>ids</th>\n",
       "      <th>titles</th>\n",
       "      <th>maturity_rating</th>\n",
       "      <th>genre</th>\n",
       "      <th>gross</th>\n",
       "    </tr>\n",
       "  </thead>\n",
       "  <tbody>\n",
       "    <tr>\n",
       "      <td>0</td>\n",
       "      <td>0</td>\n",
       "      <td>tt4154796</td>\n",
       "      <td>Avengers: Endgame</td>\n",
       "      <td>PG-13</td>\n",
       "      <td>Action, Adventure, Drama</td>\n",
       "      <td>$2,797,800,564</td>\n",
       "    </tr>\n",
       "    <tr>\n",
       "      <td>1</td>\n",
       "      <td>1</td>\n",
       "      <td>tt0499549</td>\n",
       "      <td>Avatar</td>\n",
       "      <td>PG-13</td>\n",
       "      <td>Action, Adventure, Fantasy</td>\n",
       "      <td>$2,790,439,000</td>\n",
       "    </tr>\n",
       "    <tr>\n",
       "      <td>2</td>\n",
       "      <td>2</td>\n",
       "      <td>tt0120338</td>\n",
       "      <td>Titanic</td>\n",
       "      <td>PG-13</td>\n",
       "      <td>Drama, Romance</td>\n",
       "      <td>$2,194,439,542</td>\n",
       "    </tr>\n",
       "    <tr>\n",
       "      <td>3</td>\n",
       "      <td>3</td>\n",
       "      <td>tt2488496</td>\n",
       "      <td>Star Wars: Episode VII - The Force Awakens</td>\n",
       "      <td>PG-13</td>\n",
       "      <td>Action, Adventure, Sci-Fi</td>\n",
       "      <td>$2,068,223,624</td>\n",
       "    </tr>\n",
       "    <tr>\n",
       "      <td>4</td>\n",
       "      <td>4</td>\n",
       "      <td>tt4154756</td>\n",
       "      <td>Avengers: Infinity War</td>\n",
       "      <td>PG-13</td>\n",
       "      <td>Action, Adventure, Sci-Fi</td>\n",
       "      <td>$2,048,359,754</td>\n",
       "    </tr>\n",
       "  </tbody>\n",
       "</table>\n",
       "</div>"
      ],
      "text/plain": [
       "   Unnamed: 0        ids                                      titles  \\\n",
       "0           0  tt4154796                           Avengers: Endgame   \n",
       "1           1  tt0499549                                      Avatar   \n",
       "2           2  tt0120338                                     Titanic   \n",
       "3           3  tt2488496  Star Wars: Episode VII - The Force Awakens   \n",
       "4           4  tt4154756                      Avengers: Infinity War   \n",
       "\n",
       "  maturity_rating                       genre            gross  \n",
       "0           PG-13    Action, Adventure, Drama   $2,797,800,564  \n",
       "1           PG-13  Action, Adventure, Fantasy   $2,790,439,000  \n",
       "2           PG-13              Drama, Romance   $2,194,439,542  \n",
       "3           PG-13   Action, Adventure, Sci-Fi   $2,068,223,624  \n",
       "4           PG-13   Action, Adventure, Sci-Fi   $2,048,359,754  "
      ]
     },
     "execution_count": 3,
     "metadata": {},
     "output_type": "execute_result"
    }
   ],
   "source": [
    "df.head() #This will give you the first 5 of 50 listings"
   ]
  },
  {
   "cell_type": "code",
   "execution_count": 4,
   "metadata": {},
   "outputs": [
    {
     "name": "stdout",
     "output_type": "stream",
     "text": [
      "<class 'pandas.core.frame.DataFrame'>\n",
      "RangeIndex: 50 entries, 0 to 49\n",
      "Data columns (total 6 columns):\n",
      "Unnamed: 0         50 non-null int64\n",
      "ids                50 non-null object\n",
      "titles             50 non-null object\n",
      "maturity_rating    50 non-null object\n",
      "genre              50 non-null object\n",
      "gross              50 non-null object\n",
      "dtypes: int64(1), object(5)\n",
      "memory usage: 2.5+ KB\n"
     ]
    }
   ],
   "source": [
    "df.info() #DataFrame Info "
   ]
  },
  {
   "cell_type": "code",
   "execution_count": 5,
   "metadata": {},
   "outputs": [],
   "source": [
    "df['gross'] = df['gross'].str.replace(',', '') #replacing comma \n",
    "df['gross'] = df['gross'].str.replace('$', '') #replace $\n",
    "df['gross'] = df['gross'].astype('int64') #turning it into a number"
   ]
  },
  {
   "cell_type": "code",
   "execution_count": 6,
   "metadata": {},
   "outputs": [
    {
     "data": {
      "text/plain": [
       "Text(0, 0.5, 'Genre')"
      ]
     },
     "execution_count": 6,
     "metadata": {},
     "output_type": "execute_result"
    },
    {
     "data": {
      "image/png": "[encoded data removed]",
      "text/plain": [
       "<Figure size 432x288 with 1 Axes>"
      ]
     },
     "metadata": {
      "needs_background": "light"
     },
     "output_type": "display_data"
    }
   ],
   "source": [
    "ax = sns.countplot(y=\"genre\",data=df, palette=\"Set3\", order = df['genre'].value_counts().index) #counts/groups by\n",
    "ax.set_title('Genre Frequency')\n",
    "ax.set_ylabel('Frequency') \n",
    "ax.set_ylabel('Genre')"
   ]
  },
  {
   "cell_type": "code",
   "execution_count": 7,
   "metadata": {},
   "outputs": [
    {
     "data": {
      "text/plain": [
       "Text(0, 0.5, 'Maturity')"
      ]
     },
     "execution_count": 7,
     "metadata": {},
     "output_type": "execute_result"
    },
    {
     "data": {
      "image/png": "[encoded data removed]",
      "text/plain": [
       "<Figure size 432x288 with 1 Axes>"
      ]
     },
     "metadata": {
      "needs_background": "light"
     },
     "output_type": "display_data"
    }
   ],
   "source": [
    "ax = sns.countplot(x=\"maturity_rating\",data=df, palette=\"Set3\", order = df['maturity_rating'].value_counts().index) #counts\n",
    "ax.set_title('Genre Frequency')\n",
    "ax.set_ylabel('Frequency')\n",
    "ax.set_ylabel('Maturity')"
   ]
  },
  {
   "cell_type": "code",
   "execution_count": 8,
   "metadata": {},
   "outputs": [
    {
     "data": {
      "text/plain": [
       "Text(0, 0.5, 'titles')"
      ]
     },
     "execution_count": 8,
     "metadata": {},
     "output_type": "execute_result"
    },
    {
     "data": {
      "image/png": "[encoded data removed]",
      "text/plain": [
       "<Figure size 432x288 with 1 Axes>"
      ]
     },
     "metadata": {
      "needs_background": "light"
     },
     "output_type": "display_data"
    }
   ],
   "source": [
    "ax = sns.barplot(y=\"titles\",x='gross', data=df.head(), palette=\"Set3\")\n",
    "ax.set_title('Top Most Grossed Movies Of All Time')\n",
    "ax.set_ylabel('$ Amount')\n",
    "ax.set_ylabel('titles')"
   ]
  }
 ],
 "metadata": {
  "kernelspec": {
   "display_name": "Python 3",
   "language": "python",
   "name": "python3"
  },
  "language_info": {
   "codemirror_mode": {
    "name": "ipython",
    "version": 3
   },
   "file_extension": ".py",
   "mimetype": "text/x-python",
   "name": "python",
   "nbconvert_exporter": "python",
   "pygments_lexer": "ipython3",
   "version": "3.7.4"
  }
 },
 "nbformat": 4,
 "nbformat_minor": 4
}
